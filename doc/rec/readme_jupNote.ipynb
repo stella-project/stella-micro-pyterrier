{
 "cells": [
  {
   "cell_type": "markdown",
   "metadata": {},
   "source": [
    "\n",
    "&nbsp;&nbsp;&nbsp;&nbsp;&nbsp; &nbsp; <b>STELLA - Infrastructures for Living Labs </b><br>\n",
    "&nbsp;&nbsp;&nbsp;&nbsp;&nbsp; &nbsp; https://stella-project.org/ "
   ]
  },
  {
   "cell_type": "markdown",
   "metadata": {},
   "source": [
    "# Participant Guideline\n",
    "## Implementing Experimental System for <b style=\"color:orange\">Recommendation</b>\n",
    "Steps to implement a dockerize application for participating in Living Lab for evaluating your REC systems in a live environment of gesis search which is a search engine for finding information about social science research data and open access publications. "
   ]
  },
  {
   "cell_type": "markdown",
   "metadata": {},
   "source": [
    "## Table of Contents\n",
    "\n",
    "\n",
    "\n",
    "0.  [prerequisite](#10)<br> \n",
    "1.  [Data](#0)<br>\n",
    "2.  [Implementing Ranking Algorithm](#1)<br>\n",
    "3.  [Implementing Dockerize Flask App](#2)<br>\n",
    "4.  [Next Steps](#4)<br>\n",
    "\n",
    "    <hr>"
   ]
  },
  {
   "cell_type": "markdown",
   "metadata": {},
   "source": [
    "# Prerequisite <a id=\"10\"></a>\n",
    "-  Git\n",
    "-  Install Docker\n",
    "-  Add user to Docker group\n",
    "\n",
    "<b> Optional </b>\n",
    "- Anaconda\n",
    "- pycharm\n",
    "\n",
    "\n",
    "\n",
    "\n",
    "- Clone [Participant_Recommendation](https://github.com/stella-project/Participand_Recommendation.git):\n",
    "\n",
    "```console\n",
    "git clone https://github.com/stella-project/Participand_Recommendation.git\n",
    "```\n",
    "\n",
    "\n",
    "### Some helpful Links\n",
    "\n",
    "- [Video](https://drive.google.com/file/d/1_Zuw7cxeVP-vDoLUknm96nJI28AP-tnR/view?usp=sharing)\n",
    "- [stella-micro-template](https://github.com/stella-project/stella-micro-template)\n",
    "- [Gesis-Search dataset](https://th-koeln.sciebo.de/s/OBm0NLEwz1RYl9N)\n",
    "- [PyCharm IDE](https://www.jetbrains.com/de-de/pycharm/)\n",
    "- [Get Docker](https://docs.docker.com/get-docker/)\n",
    "\n",
    "\n",
    "<hr>"
   ]
  },
  {
   "cell_type": "markdown",
   "metadata": {},
   "source": [
    "# 1.Data <a id=\"0\"></a>\n",
    "-  A corpus od <b>publication 93k</b> and <b>Research data 83k</b> metadata from GESIS Leibniz Institute for the Social Sciences\n",
    "-  Metadata in different languages (mixed and separated)"
   ]
  },
  {
   "cell_type": "code",
   "execution_count": 58,
   "metadata": {},
   "outputs": [],
   "source": [
    "!cd data && mkdir gesis-search && mkdir gesis-search/datasets && mkdir gesis-search/documents\n",
    "\n",
    "!wget -O gesis-search/datasets/dataset.jsonl \\\n",
    "https://th-koeln.sciebo.de/s/OBm0NLEwz1RYl9N/download?path=%2Fgesis-search%2Fdatasets&files=dataset.jsonl -Q --show-progress\n",
    "    \n",
    "!wget -O gesis-search/documents.jsonl \\\n",
    "https://th-koeln.sciebo.de/s/OBm0NLEwz1RYl9N/download?path=%2Fgesis-search%2Fdocuments&files=publication.jsonl -Q --show-progress\n",
    "    \n",
    "!chown -R 775 data/* "
   ]
  },
  {
   "attachments": {
    "image.png": {
     "image/png": "[encoded data removed]"
    }
   },
   "cell_type": "markdown",
   "metadata": {},
   "source": [
    "![image.png](attachment:image.png)"
   ]
  },
  {
   "cell_type": "code",
   "execution_count": 103,
   "metadata": {},
   "outputs": [],
   "source": [
    "PATH = \"./data/gesis-search/\""
   ]
  },
  {
   "cell_type": "code",
   "execution_count": 65,
   "metadata": {},
   "outputs": [],
   "source": [
    "import json\n",
    "import jsonlines\n",
    "import pandas as pd\n",
    "import numpy as np\n",
    "import pickle\n",
    "import random\n",
    "\n",
    "pd.set_option(\"display.max_columns\", None)"
   ]
  },
  {
   "cell_type": "code",
   "execution_count": 104,
   "metadata": {},
   "outputs": [],
   "source": [
    "with jsonlines.open(PATH+\"publications/publication.jsonl\") as f :\n",
    "    pub = [obj for obj in f]\n",
    "\n",
    "with jsonlines.open(PATH+\"datasets/dataset.jsonl\") as f2 :\n",
    "    dataset = [obj for obj in f2]"
   ]
  },
  {
   "cell_type": "code",
   "execution_count": 87,
   "metadata": {},
   "outputs": [],
   "source": [
    "pubdf = pd.DataFrame(pub)\n",
    "pubdf = pubdf.set_index('id')"
   ]
  },
  {
   "cell_type": "code",
   "execution_count": 88,
   "metadata": {},
   "outputs": [],
   "source": [
    "datasetdf = pd.DataFrame(dataset)\n",
    "datasetdf = datasetdf.set_index('id')"
   ]
  },
  {
   "cell_type": "code",
   "execution_count": 89,
   "metadata": {},
   "outputs": [
    {
     "name": "stdout",
     "output_type": "stream",
     "text": [
      "Number of publication:  93953\n",
      "Metadata are:  ['title', 'abstract', 'topic', 'person', 'links', 'subtype', 'document_type', 'coreAuthor', 'doi', 'date']\n"
     ]
    },
    {
     "data": {
      "text/html": [
       "<div>\n",
       "<style scoped>\n",
       "    .dataframe tbody tr th:only-of-type {\n",
       "        vertical-align: middle;\n",
       "    }\n",
       "\n",
       "    .dataframe tbody tr th {\n",
       "        vertical-align: top;\n",
       "    }\n",
       "\n",
       "    .dataframe thead th {\n",
       "        text-align: right;\n",
       "    }\n",
       "</style>\n",
       "<table border=\"1\" class=\"dataframe\">\n",
       "  <thead>\n",
       "    <tr style=\"text-align: right;\">\n",
       "      <th></th>\n",
       "      <th>title</th>\n",
       "      <th>abstract</th>\n",
       "      <th>topic</th>\n",
       "      <th>person</th>\n",
       "      <th>links</th>\n",
       "      <th>subtype</th>\n",
       "      <th>document_type</th>\n",
       "      <th>coreAuthor</th>\n",
       "      <th>doi</th>\n",
       "      <th>date</th>\n",
       "    </tr>\n",
       "    <tr>\n",
       "      <th>id</th>\n",
       "      <th></th>\n",
       "      <th></th>\n",
       "      <th></th>\n",
       "      <th></th>\n",
       "      <th></th>\n",
       "      <th></th>\n",
       "      <th></th>\n",
       "      <th></th>\n",
       "      <th></th>\n",
       "      <th></th>\n",
       "    </tr>\n",
       "  </thead>\n",
       "  <tbody>\n",
       "    <tr>\n",
       "      <th>gesis-ssoar-1002</th>\n",
       "      <td>New Concerns, More Cooperation? How Non-Tradit...</td>\n",
       "      <td>None</td>\n",
       "      <td>[Indien, Wirtschaftsbeziehungen, bilaterale Be...</td>\n",
       "      <td>[Biba, Sebastian]</td>\n",
       "      <td>[{'label': 'Link', 'link': 'https://journals.s...</td>\n",
       "      <td>journal_article</td>\n",
       "      <td>Zeitschriftenaufsatz</td>\n",
       "      <td>[Biba, Sebastian]</td>\n",
       "      <td>None</td>\n",
       "      <td>2016</td>\n",
       "    </tr>\n",
       "    <tr>\n",
       "      <th>gesis-ssoar-1006</th>\n",
       "      <td>Buddhism in Current China-India Diplomacy</td>\n",
       "      <td>Buddhism is being emphasised strongly in both ...</td>\n",
       "      <td>[China, Indien, bilaterale Beziehungen, Außenp...</td>\n",
       "      <td>[Scott, David]</td>\n",
       "      <td>[{'label': 'Link', 'link': 'https://journals.s...</td>\n",
       "      <td>journal_article</td>\n",
       "      <td>Zeitschriftenaufsatz</td>\n",
       "      <td>[Scott, David]</td>\n",
       "      <td>None</td>\n",
       "      <td>2016</td>\n",
       "    </tr>\n",
       "    <tr>\n",
       "      <th>gesis-ssoar-10066</th>\n",
       "      <td>Zukunftsaufgaben der Humanisierung des Arbeits...</td>\n",
       "      <td>Das seit 1974 vom BMFT geförderte Programm \"Fr...</td>\n",
       "      <td>[Arbeitswelt, Technik, Rationalisierung, Arbei...</td>\n",
       "      <td>[Altmann, Norbert, Düll, Klaus, Lutz, Burkart]</td>\n",
       "      <td>[{'label': 'Link', 'link': 'http://www.ssoar.i...</td>\n",
       "      <td>book</td>\n",
       "      <td>Buch</td>\n",
       "      <td>[Altmann, Norbert, Düll, Klaus, Lutz, Burkart]</td>\n",
       "      <td>None</td>\n",
       "      <td>1987</td>\n",
       "    </tr>\n",
       "  </tbody>\n",
       "</table>\n",
       "</div>"
      ],
      "text/plain": [
       "                                                               title  \\\n",
       "id                                                                     \n",
       "gesis-ssoar-1002   New Concerns, More Cooperation? How Non-Tradit...   \n",
       "gesis-ssoar-1006           Buddhism in Current China-India Diplomacy   \n",
       "gesis-ssoar-10066  Zukunftsaufgaben der Humanisierung des Arbeits...   \n",
       "\n",
       "                                                            abstract  \\\n",
       "id                                                                     \n",
       "gesis-ssoar-1002                                                None   \n",
       "gesis-ssoar-1006   Buddhism is being emphasised strongly in both ...   \n",
       "gesis-ssoar-10066  Das seit 1974 vom BMFT geförderte Programm \"Fr...   \n",
       "\n",
       "                                                               topic  \\\n",
       "id                                                                     \n",
       "gesis-ssoar-1002   [Indien, Wirtschaftsbeziehungen, bilaterale Be...   \n",
       "gesis-ssoar-1006   [China, Indien, bilaterale Beziehungen, Außenp...   \n",
       "gesis-ssoar-10066  [Arbeitswelt, Technik, Rationalisierung, Arbei...   \n",
       "\n",
       "                                                           person  \\\n",
       "id                                                                  \n",
       "gesis-ssoar-1002                                [Biba, Sebastian]   \n",
       "gesis-ssoar-1006                                   [Scott, David]   \n",
       "gesis-ssoar-10066  [Altmann, Norbert, Düll, Klaus, Lutz, Burkart]   \n",
       "\n",
       "                                                               links  \\\n",
       "id                                                                     \n",
       "gesis-ssoar-1002   [{'label': 'Link', 'link': 'https://journals.s...   \n",
       "gesis-ssoar-1006   [{'label': 'Link', 'link': 'https://journals.s...   \n",
       "gesis-ssoar-10066  [{'label': 'Link', 'link': 'http://www.ssoar.i...   \n",
       "\n",
       "                           subtype         document_type  \\\n",
       "id                                                         \n",
       "gesis-ssoar-1002   journal_article  Zeitschriftenaufsatz   \n",
       "gesis-ssoar-1006   journal_article  Zeitschriftenaufsatz   \n",
       "gesis-ssoar-10066             book                  Buch   \n",
       "\n",
       "                                                       coreAuthor   doi  date  \n",
       "id                                                                             \n",
       "gesis-ssoar-1002                                [Biba, Sebastian]  None  2016  \n",
       "gesis-ssoar-1006                                   [Scott, David]  None  2016  \n",
       "gesis-ssoar-10066  [Altmann, Norbert, Düll, Klaus, Lutz, Burkart]  None  1987  "
      ]
     },
     "execution_count": 89,
     "metadata": {},
     "output_type": "execute_result"
    }
   ],
   "source": [
    "print(\"Number of publication: \",len(pubdf))\n",
    "print(\"Metadata are: \" ,list(pubdf.columns))\n",
    "pubdf.head(3)\n"
   ]
  },
  {
   "cell_type": "code",
   "execution_count": 45,
   "metadata": {},
   "outputs": [
    {
     "name": "stdout",
     "output_type": "stream",
     "text": [
      "Number of Research Data:  83225\n",
      "Metadata are:  ['title', 'subtype', 'abstract', 'person', 'time_collection', 'countries_collection', 'methodology_collection', 'universe', 'selection_method', 'doi', 'publication_year', 'topic']\n"
     ]
    },
    {
     "data": {
      "text/html": [
       "<div>\n",
       "<style scoped>\n",
       "    .dataframe tbody tr th:only-of-type {\n",
       "        vertical-align: middle;\n",
       "    }\n",
       "\n",
       "    .dataframe tbody tr th {\n",
       "        vertical-align: top;\n",
       "    }\n",
       "\n",
       "    .dataframe thead th {\n",
       "        text-align: right;\n",
       "    }\n",
       "</style>\n",
       "<table border=\"1\" class=\"dataframe\">\n",
       "  <thead>\n",
       "    <tr style=\"text-align: right;\">\n",
       "      <th></th>\n",
       "      <th>title</th>\n",
       "      <th>subtype</th>\n",
       "      <th>abstract</th>\n",
       "      <th>person</th>\n",
       "      <th>time_collection</th>\n",
       "      <th>countries_collection</th>\n",
       "      <th>methodology_collection</th>\n",
       "      <th>universe</th>\n",
       "      <th>selection_method</th>\n",
       "      <th>doi</th>\n",
       "      <th>publication_year</th>\n",
       "      <th>topic</th>\n",
       "    </tr>\n",
       "    <tr>\n",
       "      <th>id</th>\n",
       "      <th></th>\n",
       "      <th></th>\n",
       "      <th></th>\n",
       "      <th></th>\n",
       "      <th></th>\n",
       "      <th></th>\n",
       "      <th></th>\n",
       "      <th></th>\n",
       "      <th></th>\n",
       "      <th></th>\n",
       "      <th></th>\n",
       "      <th></th>\n",
       "    </tr>\n",
       "  </thead>\n",
       "  <tbody>\n",
       "    <tr>\n",
       "      <th>ZA0018</th>\n",
       "      <td>Einstellung zur Wehrbereitschaft und Demokrati...</td>\n",
       "      <td>dbk</td>\n",
       "      <td>Vergleichsstudie bei der Zivilbevölkerung zu e...</td>\n",
       "      <td>None</td>\n",
       "      <td>10.1960 - 11.1960</td>\n",
       "      <td>[Deutschland]</td>\n",
       "      <td>Mündliche Befragung mit standardisiertem Frage...</td>\n",
       "      <td>Alter: 16 Jahre und älter.</td>\n",
       "      <td>Mehrstufige Zufallsauswahl \\r\\n</td>\n",
       "      <td>doi:10.4232/1.11581</td>\n",
       "      <td>2013</td>\n",
       "      <td>[Konflikte, Sicherheit und Frieden, Politische...</td>\n",
       "    </tr>\n",
       "    <tr>\n",
       "      <th>ZA0025</th>\n",
       "      <td>Einstellung zur Monarchie (Niederlande)\\r\\n</td>\n",
       "      <td>dbk</td>\n",
       "      <td>Einstellung der Niederländer zu den Deutschen ...</td>\n",
       "      <td>None</td>\n",
       "      <td>06.1965 - 07.1965</td>\n",
       "      <td>[Niederlande]</td>\n",
       "      <td>Mündliche Befragung mit standardisiertem Frage...</td>\n",
       "      <td>Alter: 20 Jahre und älter</td>\n",
       "      <td>Quotenauswahl</td>\n",
       "      <td>doi:10.4232/1.0025</td>\n",
       "      <td>1965</td>\n",
       "      <td>[Politische Verhaltensweisen und Einstellungen...</td>\n",
       "    </tr>\n",
       "    <tr>\n",
       "      <th>ZA0042</th>\n",
       "      <td>Politische Einstellungen (Juni 1966)\\r\\n</td>\n",
       "      <td>dbk</td>\n",
       "      <td>Beurteilung der Parteien.&lt;br/&gt;&lt;br/&gt;Themen: Beu...</td>\n",
       "      <td>None</td>\n",
       "      <td>06.1966 - 07.1966</td>\n",
       "      <td>[Deutschland]</td>\n",
       "      <td>Mündliche Befragung mit standardisiertem Frage...</td>\n",
       "      <td>Alter: 16-79 Jahre</td>\n",
       "      <td>Mehrstufige Zufallsauswahl \\r\\n</td>\n",
       "      <td>doi:10.4232/1.0042</td>\n",
       "      <td>1966</td>\n",
       "      <td>[Politische Verhaltensweisen und Einstellungen...</td>\n",
       "    </tr>\n",
       "  </tbody>\n",
       "</table>\n",
       "</div>"
      ],
      "text/plain": [
       "                                                    title subtype  \\\n",
       "id                                                                  \n",
       "ZA0018  Einstellung zur Wehrbereitschaft und Demokrati...     dbk   \n",
       "ZA0025        Einstellung zur Monarchie (Niederlande)\\r\\n     dbk   \n",
       "ZA0042           Politische Einstellungen (Juni 1966)\\r\\n     dbk   \n",
       "\n",
       "                                                 abstract person  \\\n",
       "id                                                                 \n",
       "ZA0018  Vergleichsstudie bei der Zivilbevölkerung zu e...   None   \n",
       "ZA0025  Einstellung der Niederländer zu den Deutschen ...   None   \n",
       "ZA0042  Beurteilung der Parteien.<br/><br/>Themen: Beu...   None   \n",
       "\n",
       "          time_collection countries_collection  \\\n",
       "id                                               \n",
       "ZA0018  10.1960 - 11.1960        [Deutschland]   \n",
       "ZA0025  06.1965 - 07.1965        [Niederlande]   \n",
       "ZA0042  06.1966 - 07.1966        [Deutschland]   \n",
       "\n",
       "                                   methodology_collection  \\\n",
       "id                                                          \n",
       "ZA0018  Mündliche Befragung mit standardisiertem Frage...   \n",
       "ZA0025  Mündliche Befragung mit standardisiertem Frage...   \n",
       "ZA0042  Mündliche Befragung mit standardisiertem Frage...   \n",
       "\n",
       "                          universe                 selection_method  \\\n",
       "id                                                                    \n",
       "ZA0018  Alter: 16 Jahre und älter.  Mehrstufige Zufallsauswahl \\r\\n   \n",
       "ZA0025  Alter: 20 Jahre und älter                    Quotenauswahl    \n",
       "ZA0042         Alter: 16-79 Jahre   Mehrstufige Zufallsauswahl \\r\\n   \n",
       "\n",
       "                        doi publication_year  \\\n",
       "id                                             \n",
       "ZA0018  doi:10.4232/1.11581             2013   \n",
       "ZA0025   doi:10.4232/1.0025             1965   \n",
       "ZA0042   doi:10.4232/1.0042             1966   \n",
       "\n",
       "                                                    topic  \n",
       "id                                                         \n",
       "ZA0018  [Konflikte, Sicherheit und Frieden, Politische...  \n",
       "ZA0025  [Politische Verhaltensweisen und Einstellungen...  \n",
       "ZA0042  [Politische Verhaltensweisen und Einstellungen...  "
      ]
     },
     "execution_count": 45,
     "metadata": {},
     "output_type": "execute_result"
    }
   ],
   "source": [
    "print(\"Number of Research Data: \",len(datasetdf))\n",
    "print(\"Metadata are: \" ,list(datasetdf.columns))\n",
    "datasetdf.head(3)"
   ]
  },
  {
   "cell_type": "markdown",
   "metadata": {},
   "source": [
    "<hr>"
   ]
  },
  {
   "cell_type": "markdown",
   "metadata": {},
   "source": [
    "# 2. Implementing Ranking Algorithm <a id=\"2\"></a>\n",
    "\n",
    "In the following we implement a simple app to create randomize recommendation for every publication. You will find out how simple it is."
   ]
  },
  {
   "cell_type": "code",
   "execution_count": 105,
   "metadata": {},
   "outputs": [],
   "source": [
    "idx = []\n",
    "with jsonlines.open('./data/gesis-search/datasets/dataset.jsonl') as reader:\n",
    "    for obj in reader:\n",
    "           idx.append(obj.get('id'))"
   ]
  },
  {
   "cell_type": "code",
   "execution_count": 110,
   "metadata": {},
   "outputs": [],
   "source": [
    "def recommend_datasets(item_id, page, rpp):\n",
    "    itemlist = random.choices(idx, k=rpp)\n",
    "\n",
    "    return {\n",
    "        'page': page,\n",
    "        'rpp': rpp,\n",
    "        'item_id': item_id,\n",
    "        'itemlist': itemlist,\n",
    "        'num_found': len(itemlist)\n",
    "    }\n"
   ]
  },
  {
   "cell_type": "code",
   "execution_count": 111,
   "metadata": {},
   "outputs": [
    {
     "data": {
      "text/plain": [
       "{'page': 1,\n",
       " 'rpp': 5,\n",
       " 'item_id': 'gesis-ssoar-1002',\n",
       " 'itemlist': ['datasearch-httpseasy-dans-knaw-nloai--oaieasy-dans-knaw-nleasy-dataset32489',\n",
       "  'datasearch-httpseasy-dans-knaw-nloai--oaieasy-dans-knaw-nleasy-dataset76673',\n",
       "  'ZA5859',\n",
       "  'ZA8682',\n",
       "  'datasearch-httpwww-da-ra-deoaip--oaioai-da-ra-de4527'],\n",
       " 'num_found': 5}"
      ]
     },
     "execution_count": 111,
     "metadata": {},
     "output_type": "execute_result"
    }
   ],
   "source": [
    "recommend_datasets(\"gesis-ssoar-1002\", 1, 5)"
   ]
  },
  {
   "cell_type": "markdown",
   "metadata": {},
   "source": [
    "<hr>"
   ]
  },
  {
   "attachments": {
    "image.png": {
     "image/png": "[encoded data removed]"
    }
   },
   "cell_type": "markdown",
   "metadata": {},
   "source": [
    "# 3.Implementing Dockerize Flask App <a id=\"2\"></a>\n",
    "\n",
    "\n",
    "## Application structure\n",
    "\n",
    "![image.png](attachment:image.png)"
   ]
  },
  {
   "cell_type": "markdown",
   "metadata": {},
   "source": [
    "## API Endpoints \n",
    "\n",
    "### Endpoints\n",
    "\n",
    "- `GET /test`: print the name o container\n",
    "\n",
    "- `GET /index`: index the data for retrieval\n",
    "- `GET /recommendation/datasets?<string:item_id>`: Retrieve a ranking corresponding to the query specified at the endpoint. A JSON object with maximally 10 entries will be returned.\n"
   ]
  },
  {
   "cell_type": "markdown",
   "metadata": {},
   "source": [
    "## app.py\n",
    "\n",
    "you don't need to change this file"
   ]
  },
  {
   "cell_type": "code",
   "execution_count": null,
   "metadata": {},
   "outputs": [],
   "source": [
    "from flask import Flask, request, jsonify\n",
    "from systems import Ranker, Recommender\n",
    "\n",
    "\n",
    "app = Flask(__name__)\n",
    "ranker = Ranker()\n",
    "recommender = Recommender()\n",
    "\n",
    "\n",
    "@app.route('/test', methods=[\"GET\"])\n",
    "def test():\n",
    "    return 'Container is running', 200\n",
    "\n",
    "\n",
    "@app.route('/index', methods=[\"GET\"])\n",
    "def index():\n",
    "    ranker.index()\n",
    "    recommender.index()\n",
    "    return 'Indexing done!', 200\n",
    "\n",
    "\n",
    "@app.route('/ranking', methods=[\"GET\"])\n",
    "def ranking():\n",
    "    query = request.args.get('query', None)\n",
    "    page = request.args.get('page', default=0, type=int)\n",
    "    rpp = request.args.get('rpp', default=20, type=int)\n",
    "    response = ranker.rank_publications(query, page, rpp)\n",
    "    return jsonify(response)\n",
    "\n",
    "\n",
    "@app.route('/recommendation/datasets', methods=[\"GET\"])\n",
    "def rec_data():\n",
    "    item_id = request.args.get('item_id', None)\n",
    "    page = request.args.get('page', default=0, type=int)\n",
    "    rpp = request.args.get('rpp', default=20, type=int)\n",
    "    response = recommender.recommend_datasets(item_id, page, rpp)\n",
    "    return jsonify(response)\n",
    "\n",
    "\n",
    "@app.route('/recommendation/publications', methods=[\"GET\"])\n",
    "def rec_pub():\n",
    "    item_id = request.args.get('item_id', None)\n",
    "    page = request.args.get('page', default=0, type=int)\n",
    "    rpp = request.args.get('rpp', default=20, type=int)\n",
    "    response = recommender.recommend_publications(item_id, page, rpp)\n",
    "    return jsonify(response)\n",
    "\n",
    "\n",
    "if __name__ == '__main__':\n",
    "    app.run(host='0.0.0.0', port=5000, debug=True)"
   ]
  },
  {
   "cell_type": "markdown",
   "metadata": {},
   "source": [
    "## system.py"
   ]
  },
  {
   "cell_type": "code",
   "execution_count": null,
   "metadata": {},
   "outputs": [],
   "source": [
    "import jsonlines\n",
    "import random\n",
    "\n",
    "class Ranker(object):\n",
    "\n",
    "    def __init__(self):\n",
    "        self.idx = None\n",
    "\n",
    "    def index(self):\n",
    "        pass\n",
    "\n",
    "    def rank_publications(self, query, page, rpp):\n",
    "\n",
    "        itemlist = []\n",
    "\n",
    "        return {\n",
    "            'page': page,\n",
    "            'rpp': rpp,\n",
    "            'query': query,\n",
    "            'itemlist': itemlist,\n",
    "            'num_found': len(itemlist)\n",
    "        }\n",
    "\n",
    "\n",
    "class Recommender(object):\n",
    "\n",
    "    def __init__(self):\n",
    "        self.idx = None\n",
    "\n",
    "    def index(self):\n",
    "        self.idx = []\n",
    "        with jsonlines.open('./data/gesis-search/datasets/dataset.jsonl') as reader:\n",
    "            for obj in reader:\n",
    "                self.idx.append(obj.get('id'))\n",
    "\n",
    "    def recommend_datasets(self, item_id, page, rpp):\n",
    "        \n",
    "        # implement your ranking algorithm here!\n",
    "        itemlist = random.choices(self.idx, k=rpp)\n",
    "        \n",
    "        return {\n",
    "            'page': page,\n",
    "            'rpp': rpp,\n",
    "            'item_id': item_id,\n",
    "            'itemlist': itemlist,\n",
    "            'num_found': len(itemlist)\n",
    "        }\n",
    "\n",
    "    def recommend_publications(self, item_id, page, rpp):\n",
    "\n",
    "        itemlist = []\n",
    "\n",
    "        return {\n",
    "            'page': page,\n",
    "            'rpp': rpp,\n",
    "            'item_id': item_id,\n",
    "            'itemlist': itemlist,\n",
    "            'num_found': len(itemlist)\n",
    "        }\n"
   ]
  },
  {
   "cell_type": "markdown",
   "metadata": {},
   "source": [
    "### DockerFile"
   ]
  },
  {
   "cell_type": "markdown",
   "metadata": {},
   "source": [
    "```bash\n",
    "  \n",
    "FROM python:3.7\n",
    "\n",
    "COPY requirements.txt requirements.txt\n",
    "RUN python -m pip install -r requirements.txt\n",
    "\n",
    "COPY . .\n",
    "\n",
    "ENTRYPOINT python3 app.py\n",
    "```"
   ]
  },
  {
   "cell_type": "markdown",
   "metadata": {},
   "source": [
    "## Running the App (RecRand)"
   ]
  },
  {
   "cell_type": "markdown",
   "metadata": {},
   "source": [
    "```bash\n",
    "$ cd gesis_rec_micro\n",
    "$ docker build -t participant/random-ranker .\n",
    "$ docker run -p 5000:5000 participant/random-ranker\n",
    "```"
   ]
  },
  {
   "cell_type": "markdown",
   "metadata": {},
   "source": [
    "## Test the app"
   ]
  },
  {
   "cell_type": "markdown",
   "metadata": {},
   "source": [
    "<url> http://0.0.0.0:5000/index </url> <br>\n",
    "<url> http://0.0.0.0:5000/recommendation/datasets?item_id=gesis-ssoar-44449 </url>"
   ]
  },
  {
   "cell_type": "markdown",
   "metadata": {},
   "source": [
    "```json\n",
    "{\n",
    "  \"item_id\": \"gesis-ssoar-44449\", \n",
    "  \"itemlist\": [\n",
    "    \"datasearch-httpwww-da-ra-deoaip--oaioai-da-ra-de542142\", \n",
    "    \"datasearch-httpwww-da-ra-deoaip--oaioai-da-ra-de462150\", \n",
    "    \"datasearch-httpseasy-dans-knaw-nloai--oaieasy-dans-knaw-nleasy-dataset51047\", \n",
    "    \"datasearch-httpwww-da-ra-deoaip--oaioai-da-ra-de438799\", \n",
    "    \"datasearch-httpwww-da-ra-deoaip--oaioai-da-ra-de585980\", \n",
    "    \"datasearch-httpsoai-datacite-orgoai--oaioai-datacite-org57070\", \n",
    "    \"datasearch-httpwww-da-ra-deoaip--oaioai-da-ra-de438015\", \n",
    "    \"datasearch-httpsoai-datacite-orgoai--oaioai-datacite-org15413441\", \n",
    "    \"datasearch-httpwww-da-ra-deoaip--oaioai-da-ra-de519570\", \n",
    "    \"datasearch-httpwww-da-ra-deoaip--oaioai-da-ra-de7788\", \n",
    "    \"datasearch-httpsdataverse-unc-eduoai--hdl1902-29H-792102\", \n",
    "    \"datasearch-httpwww-da-ra-deoaip--oaioai-da-ra-de549431\", \n",
    "    \"datasearch-httpwww-da-ra-deoaip--oaioai-da-ra-de449775\", \n",
    "    \"datasearch-httpwww-da-ra-deoaip--oaioai-da-ra-de450194\", \n",
    "    \"datasearch-httpwww-da-ra-deoaip--oaioai-da-ra-de656781\", \n",
    "    \"datasearch-httpwww-da-ra-deoaip--oaioai-da-ra-de434948\", \n",
    "    \"datasearch-httpwww-da-ra-deoaip--oaioai-da-ra-de433497\", \n",
    "    \"ZA7177\", \n",
    "    \"ZA8333\", \n",
    "    \"datasearch-httpseasy-dans-knaw-nloai--oaieasy-dans-knaw-nleasy-dataset35905\"\n",
    "  ], \n",
    "  \"num_found\": 20, \n",
    "  \"page\": 0, \n",
    "  \"rpp\": 20\n",
    "}\n",
    "\n",
    "```"
   ]
  },
  {
   "cell_type": "markdown",
   "metadata": {},
   "source": [
    "<hr>"
   ]
  }
 ],
 "metadata": {
  "kernelspec": {
   "display_name": "Python 3",
   "language": "python",
   "name": "python3"
  },
  "language_info": {
   "codemirror_mode": {
    "name": "ipython",
    "version": 3
   },
   "file_extension": ".py",
   "mimetype": "text/x-python",
   "name": "python",
   "nbconvert_exporter": "python",
   "pygments_lexer": "ipython3",
   "version": "3.7.6"
  }
 },
 "nbformat": 4,
 "nbformat_minor": 4
}
